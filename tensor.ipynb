{
 "cells": [
  {
   "cell_type": "markdown",
   "metadata": {
    "id": "6bqYm6aYX1I0"
   },
   "source": [
    "# Complete Pytorch Tensor Tutorial (Initializing Tensors, Math, Indexing, Reshaping)\n",
    "\n",
    "A. Initializing Tensors.\n",
    "\n",
    "B. Tensor Mathematical and Logical Operations.\n",
    "\n",
    "C. Tensor Indexing.\n",
    "\n",
    "D. Tensor Reshaping."
   ]
  },
  {
   "cell_type": "markdown",
   "metadata": {
    "id": "RZk6Zd__Yu6i"
   },
   "source": [
    "## A. Initializing Tensors:\n",
    "\n",
    "### 1. Create a tensor with the following characteristics:\n",
    "  1. A 2-D tensor of dimension (2x3) with values from 1 to 6, and print it and its shape.\n",
    "  1. Its data type is float 32, and print it.\n",
    "  1. Set the device to be CUDA (enables GPU) if available, otherwise set it to CPU, and print it.\n",
    "  1. Set the requires-gradient to True, and print it.\n",
    "\n",
    "\n"
   ]
  },
  {
   "cell_type": "code",
   "execution_count": 22,
   "metadata": {
    "colab": {
     "base_uri": "https://localhost:8080/"
    },
    "id": "LXnGidKDeiuU",
    "outputId": "1f6ad343-3f3d-4fd8-d37f-8892b6c578c6"
   },
   "outputs": [
    {
     "name": "stdout",
     "output_type": "stream",
     "text": [
      "1.11.0+cu113\n",
      "tensor([[1., 2., 3.],\n",
      "        [4., 5., 6.]], requires_grad=True)\n",
      "torch.Size([2, 3])\n",
      "torch.float32\n",
      "cpu\n",
      "True\n"
     ]
    }
   ],
   "source": [
    "import torch\n",
    "print(torch.__version__)\n",
    "\n",
    "device = 'cuda' if torch.cuda.is_available() else 'cpu'\n",
    "\n",
    "tensor = torch.tensor([[1,2,3], [4,5,6]], dtype=torch.float32, device = device, requires_grad=True)\n",
    "print(tensor)\n",
    "print(tensor.shape)\n",
    "print(tensor.dtype)\n",
    "print(tensor.device)\n",
    "print(tensor.requires_grad)"
   ]
  },
  {
   "cell_type": "markdown",
   "metadata": {
    "id": "nK6PkP37buMr"
   },
   "source": [
    "## Other Common Initialization Methods:\n",
    "### 1. Create an empty tensor of size (3x3), and print it."
   ]
  },
  {
   "cell_type": "code",
   "execution_count": 23,
   "metadata": {
    "colab": {
     "base_uri": "https://localhost:8080/"
    },
    "id": "wahUwV8BSd_i",
    "outputId": "fd8a8251-61f0-4ddc-844d-75313ab58e2d"
   },
   "outputs": [
    {
     "name": "stdout",
     "output_type": "stream",
     "text": [
      "1.11.0+cu113\n",
      "tensor([[6.4891e-35, 0.0000e+00, 3.3631e-44],\n",
      "        [0.0000e+00,        nan, 6.0000e+00],\n",
      "        [4.4721e+21, 1.5956e+25, 4.7399e+16]])\n"
     ]
    }
   ],
   "source": [
    "import torch \n",
    "print(torch.__version__)\n",
    "\n",
    "tensor = torch.empty(size=(3,3))\n",
    "print(tensor)"
   ]
  },
  {
   "cell_type": "markdown",
   "metadata": {
    "id": "jmQi6J2QRN0A"
   },
   "source": [
    "### 2. Create a tensor of zeros of size (3,3), and print it."
   ]
  },
  {
   "cell_type": "code",
   "execution_count": 24,
   "metadata": {
    "colab": {
     "base_uri": "https://localhost:8080/"
    },
    "id": "F4_klt-NShI_",
    "outputId": "656c874f-f843-48c8-ea38-2606bab7eef5"
   },
   "outputs": [
    {
     "name": "stdout",
     "output_type": "stream",
     "text": [
      "tensor([[0., 0., 0.],\n",
      "        [0., 0., 0.],\n",
      "        [0., 0., 0.]])\n"
     ]
    }
   ],
   "source": [
    "tensor = torch.zeros((3,3))\n",
    "print(tensor)"
   ]
  },
  {
   "cell_type": "markdown",
   "metadata": {
    "id": "Bk7cmR0uROZr"
   },
   "source": [
    "### 3. Create a tensor of ones of size (3,3), and print it."
   ]
  },
  {
   "cell_type": "code",
   "execution_count": 25,
   "metadata": {
    "colab": {
     "base_uri": "https://localhost:8080/"
    },
    "id": "_TM5L92vSjqV",
    "outputId": "c8b066ff-1026-4ad1-bfd9-89d9b1676839"
   },
   "outputs": [
    {
     "name": "stdout",
     "output_type": "stream",
     "text": [
      "tensor([[1., 1., 1.],\n",
      "        [1., 1., 1.],\n",
      "        [1., 1., 1.]])\n"
     ]
    }
   ],
   "source": [
    "tensor = torch.ones((3,3))\n",
    "print(tensor)"
   ]
  },
  {
   "cell_type": "markdown",
   "metadata": {
    "id": "RJvlL24ERO-g"
   },
   "source": [
    "### 4. Create a tensor with values from a uniform distribution in the interval 0 and 1 with size (3x3), and print it. "
   ]
  },
  {
   "cell_type": "code",
   "execution_count": 26,
   "metadata": {
    "colab": {
     "base_uri": "https://localhost:8080/"
    },
    "id": "N5la4hxdSmMe",
    "outputId": "50650a16-819f-4c13-bbf8-fdc6f4257c33"
   },
   "outputs": [
    {
     "name": "stdout",
     "output_type": "stream",
     "text": [
      "tensor([[0.5371, 0.0468, 0.6686],\n",
      "        [0.0079, 0.6701, 0.2146],\n",
      "        [0.8813, 0.1367, 0.2771]])\n"
     ]
    }
   ],
   "source": [
    "tensor = torch.rand((3,3))\n",
    "print(tensor)"
   ]
  },
  {
   "cell_type": "markdown",
   "metadata": {
    "id": "ipEE-m0VRPQ_"
   },
   "source": [
    "### 5. Create a tensor that is an identity matrix of size (5x5), and print it."
   ]
  },
  {
   "cell_type": "code",
   "execution_count": 27,
   "metadata": {
    "colab": {
     "base_uri": "https://localhost:8080/"
    },
    "id": "DTWZ-kxhSq2j",
    "outputId": "473efed6-da76-49fc-c216-fd19857fa162"
   },
   "outputs": [
    {
     "name": "stdout",
     "output_type": "stream",
     "text": [
      "tensor([[1., 0., 0., 0., 0.],\n",
      "        [0., 1., 0., 0., 0.],\n",
      "        [0., 0., 1., 0., 0.],\n",
      "        [0., 0., 0., 1., 0.],\n",
      "        [0., 0., 0., 0., 1.]])\n"
     ]
    }
   ],
   "source": [
    "tensor = torch.eye(5)\n",
    "print(tensor)"
   ]
  },
  {
   "cell_type": "markdown",
   "metadata": {
    "id": "hy6XFHRoR3di"
   },
   "source": [
    "### 6. Create a tensor that is a range from 0 to 5 ([0, 5[) with step 1, and print it."
   ]
  },
  {
   "cell_type": "code",
   "execution_count": 28,
   "metadata": {
    "colab": {
     "base_uri": "https://localhost:8080/"
    },
    "id": "keTgak2FSvaJ",
    "outputId": "d040cbfb-0e5e-4e72-b46d-5432a2be6dba"
   },
   "outputs": [
    {
     "name": "stdout",
     "output_type": "stream",
     "text": [
      "tensor([0, 1, 2, 3, 4])\n"
     ]
    }
   ],
   "source": [
    "tensor = torch.arange(start=0, end=5, step=1)\n",
    "print(tensor)"
   ]
  },
  {
   "cell_type": "markdown",
   "metadata": {
    "id": "EAe7_nmoR6ER"
   },
   "source": [
    "### 7. Create a tensor that is a line space from 0.1 to 1 ([0.1, 1]) with 10 steps, and print it."
   ]
  },
  {
   "cell_type": "code",
   "execution_count": 29,
   "metadata": {
    "colab": {
     "base_uri": "https://localhost:8080/"
    },
    "id": "DmFJuyzqSzaw",
    "outputId": "149c49d5-627f-4e06-b042-d99245c263a3"
   },
   "outputs": [
    {
     "name": "stdout",
     "output_type": "stream",
     "text": [
      "tensor([0.1000, 0.2000, 0.3000, 0.4000, 0.5000, 0.6000, 0.7000, 0.8000, 0.9000,\n",
      "        1.0000])\n"
     ]
    }
   ],
   "source": [
    "tensor = torch.linspace(start=0.1, end=1, steps=10)\n",
    "print(tensor)"
   ]
  },
  {
   "cell_type": "markdown",
   "metadata": {
    "id": "F--QfK28R8qU"
   },
   "source": [
    "### 8. Create a tensor with 5 values from normal distribution of mean=0 and std=1, and print it."
   ]
  },
  {
   "cell_type": "code",
   "execution_count": 30,
   "metadata": {
    "colab": {
     "base_uri": "https://localhost:8080/"
    },
    "id": "w5cCgLiNS1sg",
    "outputId": "3eaba0dd-c790-4ad8-d747-94072d98c6ed"
   },
   "outputs": [
    {
     "name": "stdout",
     "output_type": "stream",
     "text": [
      "tensor([[0.5675, 1.1963, 1.4278, 1.8229, 0.6604]])\n"
     ]
    }
   ],
   "source": [
    "tensor = torch.empty((1,5)).normal_(mean=0, std=1)\n",
    "print(tensor)"
   ]
  },
  {
   "cell_type": "markdown",
   "metadata": {
    "id": "a03ORPVxR-zk"
   },
   "source": [
    "### 9. Create a tensor with 5 values from uniform distribution in the interval 5 to 10, and print it."
   ]
  },
  {
   "cell_type": "code",
   "execution_count": 31,
   "metadata": {
    "colab": {
     "base_uri": "https://localhost:8080/"
    },
    "id": "XE-vWHcrS4GK",
    "outputId": "8f160c9d-f277-4ee7-c8bc-885697fb02cf"
   },
   "outputs": [
    {
     "name": "stdout",
     "output_type": "stream",
     "text": [
      "tensor([[6.0392, 9.0459, 7.1632, 6.5617, 6.7008]])\n"
     ]
    }
   ],
   "source": [
    "tensor = torch.empty(size=(1,5)).uniform_(5,10)\n",
    "print(tensor)"
   ]
  },
  {
   "cell_type": "markdown",
   "metadata": {
    "id": "UhllffP6SBZa"
   },
   "source": [
    "### 10. Create a tensor that is a diagonal matric of size (3x3) with value of 1 (= identity matrix), and print it."
   ]
  },
  {
   "cell_type": "code",
   "execution_count": 32,
   "metadata": {
    "colab": {
     "base_uri": "https://localhost:8080/"
    },
    "id": "DdwX4SNNgAvu",
    "outputId": "2d7803e9-f281-43ab-aa24-3d8f4b7ca136"
   },
   "outputs": [
    {
     "name": "stdout",
     "output_type": "stream",
     "text": [
      "tensor([[1., 0., 0.],\n",
      "        [0., 1., 0.],\n",
      "        [0., 0., 1.]])\n"
     ]
    }
   ],
   "source": [
    "tensor = torch.diag(torch.ones(3))\n",
    "print(tensor)"
   ]
  },
  {
   "cell_type": "markdown",
   "metadata": {
    "id": "iitet0JQjrin"
   },
   "source": [
    "## How to Initialize and Convert Tensors to Other Data Types\n",
    "### 1. Create a tensor that contains a range from 0 to 4 (included), print it, and its data type.\n",
    "### 2. Convert its data type into boolean (0 = False, and non-zeros = True), print it, and its data type.\n",
    "### 3. Convert its data type into int16 (short), print it, and its data type.\n",
    "### 4. Convert its data type into int32 (int), print it, and its data type.\n",
    "### 5. Convert its data type into int64 (long), print it, and its data type.\n",
    "### 6. Convert its data type into float16 (half) (suitable to train NNs on newer GPUs 2000x with that data type), print it, and its data type.\n",
    "### 7. Convert its data type into float32 (float), print it, and its data type.\n",
    "### 8. Convert its data type into float64 (double), print it, and its data type.\n",
    "\n",
    "\n",
    "\n",
    "\n",
    "\n",
    "\n",
    "\n",
    "\n"
   ]
  },
  {
   "cell_type": "code",
   "execution_count": 59,
   "metadata": {
    "colab": {
     "base_uri": "https://localhost:8080/"
    },
    "id": "ylhEhHZmmeKg",
    "outputId": "7e231916-e082-4a0f-e393-8ae40141b046"
   },
   "outputs": [
    {
     "name": "stdout",
     "output_type": "stream",
     "text": [
      "1.11.0+cu113\n",
      "torch.int64\n",
      "tensor([False,  True,  True,  True,  True])\n",
      "torch.bool\n",
      "tensor([0, 1, 2, 3, 4], dtype=torch.int16)\n",
      "torch.int16\n",
      "tensor([0, 1, 2, 3, 4], dtype=torch.int32)\n",
      "torch.int32\n",
      "tensor([0, 1, 2, 3, 4])\n",
      "torch.int64\n",
      "tensor([0., 1., 2., 3., 4.], dtype=torch.float16)\n",
      "torch.float16\n",
      "tensor([0., 1., 2., 3., 4.])\n",
      "torch.float32\n",
      "tensor([0., 1., 2., 3., 4.], dtype=torch.float64)\n",
      "torch.float64\n"
     ]
    }
   ],
   "source": [
    "import torch\n",
    "print(torch.__version__)\n",
    "\n",
    "tensor = torch.arange(5)\n",
    "print(tensor.dtype)\n",
    "\n",
    "boolean_tensor = tensor.bool()\n",
    "print(boolean_tensor)\n",
    "print(boolean_tensor.dtype)\n",
    "\n",
    "short_tensor = tensor.short()\n",
    "print(short_tensor)\n",
    "print(short_tensor.dtype)\n",
    "\n",
    "int_tensor = tensor.int()\n",
    "print(int_tensor)\n",
    "print(int_tensor.dtype)\n",
    "\n",
    "long_tensor = tensor.long()\n",
    "print(long_tensor)\n",
    "print(long_tensor.dtype)\n",
    "\n",
    "half_tensor = tensor.half()\n",
    "print(half_tensor)\n",
    "print(half_tensor.dtype)\n",
    "\n",
    "float_tensor = tensor.float()\n",
    "print(float_tensor)\n",
    "print(float_tensor.dtype)\n",
    "\n",
    "double_tensor = tensor.double()\n",
    "print(double_tensor)\n",
    "print(double_tensor.dtype)"
   ]
  },
  {
   "cell_type": "markdown",
   "metadata": {
    "id": "1lvMB5u0nRbC"
   },
   "source": [
    "## NumPy Array to Torch Tensor and Vice Versa:\n",
    "### 1. Create a NumPy array of zeros of size (5,5).\n",
    "### 2. Convert it into Torch Tensor. \n",
    "### 3. Convert it back to NumPy Array."
   ]
  },
  {
   "cell_type": "code",
   "execution_count": 34,
   "metadata": {
    "colab": {
     "base_uri": "https://localhost:8080/"
    },
    "id": "lKboHHGXoIIN",
    "outputId": "d919ec7d-ad93-46ab-e6ca-7a46a8f51552"
   },
   "outputs": [
    {
     "name": "stdout",
     "output_type": "stream",
     "text": [
      "[[0. 0. 0. 0. 0.]\n",
      " [0. 0. 0. 0. 0.]\n",
      " [0. 0. 0. 0. 0.]\n",
      " [0. 0. 0. 0. 0.]\n",
      " [0. 0. 0. 0. 0.]]\n",
      "tensor([[0., 0., 0., 0., 0.],\n",
      "        [0., 0., 0., 0., 0.],\n",
      "        [0., 0., 0., 0., 0.],\n",
      "        [0., 0., 0., 0., 0.],\n",
      "        [0., 0., 0., 0., 0.]], dtype=torch.float64)\n",
      "[[0. 0. 0. 0. 0.]\n",
      " [0. 0. 0. 0. 0.]\n",
      " [0. 0. 0. 0. 0.]\n",
      " [0. 0. 0. 0. 0.]\n",
      " [0. 0. 0. 0. 0.]]\n"
     ]
    }
   ],
   "source": [
    "import numpy as np\n",
    "import torch\n",
    "\n",
    "numpy_array = np.zeros((5,5))\n",
    "print(numpy_array)\n",
    "\n",
    "tensor = torch.from_numpy(numpy_array)\n",
    "print(tensor)\n",
    "\n",
    "another_numpy_array = tensor.numpy()\n",
    "print(another_numpy_array)"
   ]
  },
  {
   "cell_type": "markdown",
   "metadata": {
    "id": "2ikP0FAy5pWS"
   },
   "source": [
    "## B. Tensor Mathematical and Logical Operations:\n",
    "### 1. Intialize 2 torch tensors with the the following values:\n",
    "    1. [1, 2, 3]\n",
    "    2. [9, 8, 7]\n",
    "### 2. Declare an empty tensor of size (1,3).\n",
    "### 3. Apply the addition using 4 methods and print the result for each one."
   ]
  },
  {
   "cell_type": "code",
   "execution_count": 35,
   "metadata": {
    "colab": {
     "base_uri": "https://localhost:8080/"
    },
    "id": "TgVKQsgAPz8Y",
    "outputId": "ed18df14-edcf-426d-c5bc-e75473592dbd"
   },
   "outputs": [
    {
     "name": "stdout",
     "output_type": "stream",
     "text": [
      "1.11.0+cu113\n",
      "tensor([10, 10, 10])\n",
      "tensor([10, 10, 10])\n",
      "tensor([10, 10, 10])\n",
      "tensor([10, 10, 10])\n"
     ]
    }
   ],
   "source": [
    "import torch\n",
    "print(torch.__version__)\n",
    "\n",
    "first_tensor = torch.tensor([1,2,3])\n",
    "second_tensor = torch.tensor([9,8,7])\n",
    "third_tensor = torch.empty(3)\n",
    "\n",
    "third_tensor = torch.add(first_tensor, second_tensor)\n",
    "print(third_tensor)\n",
    "\n",
    "torch.add(first_tensor, second_tensor, out = third_tensor)\n",
    "print(third_tensor)\n",
    "\n",
    "third_tensor = torch.add(first_tensor, second_tensor)\n",
    "print(third_tensor)\n",
    "\n",
    "third_tensor = first_tensor + second_tensor\n",
    "print(third_tensor)"
   ]
  },
  {
   "cell_type": "markdown",
   "metadata": {
    "id": "u6-vYOQVZVQN"
   },
   "source": [
    "### 4. Subract the two tensors and print the result."
   ]
  },
  {
   "cell_type": "code",
   "execution_count": 36,
   "metadata": {
    "colab": {
     "base_uri": "https://localhost:8080/"
    },
    "id": "Lhb3xkdgRtyC",
    "outputId": "64cdb843-6777-479e-cb8d-49320895e6f6"
   },
   "outputs": [
    {
     "name": "stdout",
     "output_type": "stream",
     "text": [
      "tensor([-8, -6, -4])\n"
     ]
    }
   ],
   "source": [
    "third_tensor = first_tensor - second_tensor\n",
    "print(third_tensor)"
   ]
  },
  {
   "cell_type": "markdown",
   "metadata": {
    "id": "sAblW8qsRtyD"
   },
   "source": [
    "### 5. Apply the element wise division and print the result.\n",
    "### 6. Divide the first tensor with an integer and print the result."
   ]
  },
  {
   "cell_type": "code",
   "execution_count": 37,
   "metadata": {
    "colab": {
     "base_uri": "https://localhost:8080/"
    },
    "id": "EwXyggSiRtyD",
    "outputId": "4546e5ff-0813-4330-8402-08674cde0993"
   },
   "outputs": [
    {
     "name": "stdout",
     "output_type": "stream",
     "text": [
      "tensor([0.1111, 0.2500, 0.4286])\n",
      "tensor([0.1667, 0.3333, 0.5000])\n"
     ]
    }
   ],
   "source": [
    "third_tensor = torch.true_divide(first_tensor, second_tensor)\n",
    "print(third_tensor)\n",
    "\n",
    "third_tensor = torch.true_divide(first_tensor, 6)\n",
    "print(third_tensor)"
   ]
  },
  {
   "cell_type": "markdown",
   "metadata": {
    "id": "2oGIDGhyRtyD"
   },
   "source": [
    "### 7. (Inplace Operations) Apply the inplace addition operation (done without creating a new copy of tensor - computationally efficient) using 2 methods and print the result for each one."
   ]
  },
  {
   "cell_type": "code",
   "execution_count": 38,
   "metadata": {
    "colab": {
     "base_uri": "https://localhost:8080/"
    },
    "id": "OUJeyWohRtyD",
    "outputId": "65285aad-f690-4c72-92ba-0cebfa3699ec"
   },
   "outputs": [
    {
     "name": "stdout",
     "output_type": "stream",
     "text": [
      "tensor([1.1667, 2.3333, 3.5000])\n",
      "tensor([2.1667, 4.3333, 6.5000])\n"
     ]
    }
   ],
   "source": [
    "third_tensor.add_(first_tensor)\n",
    "print(third_tensor)\n",
    "\n",
    "third_tensor += first_tensor \n",
    "print(third_tensor)\n",
    "\n",
    "# third_tensor = third_tensor + first_tensor ==> is not inplace operation."
   ]
  },
  {
   "cell_type": "markdown",
   "metadata": {
    "id": "Qs7CkoZ4RtyD"
   },
   "source": [
    "### 8. (Exponentiation) Apply element-wise power of 2 for a tensor using 2 methods and print the result for each one."
   ]
  },
  {
   "cell_type": "code",
   "execution_count": 39,
   "metadata": {
    "colab": {
     "base_uri": "https://localhost:8080/"
    },
    "id": "ebzS5vLSRtyD",
    "outputId": "3ecc85b0-c548-4a6a-f9f9-d6c8ae6fd123"
   },
   "outputs": [
    {
     "name": "stdout",
     "output_type": "stream",
     "text": [
      "tensor([1, 4, 9])\n",
      "tensor([1, 4, 9])\n"
     ]
    }
   ],
   "source": [
    "third_tensor = first_tensor.pow(2)\n",
    "print(third_tensor)\n",
    "\n",
    "third_tensor = first_tensor ** 2\n",
    "print(third_tensor)"
   ]
  },
  {
   "cell_type": "markdown",
   "metadata": {
    "id": "t5aQ44OKRtyE"
   },
   "source": [
    "### 9. (Element-wise Comparison) Show which elements of the first tensor is greater than 2 and print the result. "
   ]
  },
  {
   "cell_type": "code",
   "execution_count": 40,
   "metadata": {
    "colab": {
     "base_uri": "https://localhost:8080/"
    },
    "id": "yevTdQdNRtyE",
    "outputId": "5a62410c-3e7f-42e1-96e0-d489f30a72e0"
   },
   "outputs": [
    {
     "name": "stdout",
     "output_type": "stream",
     "text": [
      "tensor([False, False,  True])\n",
      "tensor([3])\n",
      "tensor([3])\n"
     ]
    }
   ],
   "source": [
    "result = first_tensor > 2\n",
    "print(result)\n",
    "\n",
    "print(first_tensor[result])\n",
    "print(first_tensor[first_tensor > 2])"
   ]
  },
  {
   "cell_type": "markdown",
   "metadata": {
    "id": "Gu7grJ_sRtyE"
   },
   "source": [
    "### 10. (Matrix Multiplication) Initialize 2 matrices of sizes (2,5) and (5,3) by Uniform Distribution, apply matrix multiplication using 2 methods, and print the result."
   ]
  },
  {
   "cell_type": "code",
   "execution_count": 41,
   "metadata": {
    "colab": {
     "base_uri": "https://localhost:8080/"
    },
    "id": "KbkLu-cdRtyE",
    "outputId": "25a502aa-1ffc-47a5-a5f2-b7594b5b46a0"
   },
   "outputs": [
    {
     "name": "stdout",
     "output_type": "stream",
     "text": [
      "tensor([[0.7006, 0.6137, 0.5971],\n",
      "        [1.7048, 0.8872, 1.4974]])\n",
      "tensor([[0.7006, 0.6137, 0.5971],\n",
      "        [1.7048, 0.8872, 1.4974]])\n"
     ]
    }
   ],
   "source": [
    "first_matrix = torch.rand((2,5))\n",
    "second_matrix = torch.empty((5,3)).uniform_()\n",
    "\n",
    "result = torch.mm(first_matrix, second_matrix)\n",
    "print(result)\n",
    "\n",
    "result = first_matrix.mm(second_matrix)\n",
    "print(result)"
   ]
  },
  {
   "cell_type": "markdown",
   "metadata": {
    "id": "PikjPR1gRtyE"
   },
   "source": [
    "### 11. Apply element-wise matrix multiplication."
   ]
  },
  {
   "cell_type": "code",
   "execution_count": 42,
   "metadata": {
    "colab": {
     "base_uri": "https://localhost:8080/"
    },
    "id": "7I2BTxrpRtyE",
    "outputId": "ae7bdc2f-0a94-40cc-fbf7-4880086efff8"
   },
   "outputs": [
    {
     "name": "stdout",
     "output_type": "stream",
     "text": [
      "tensor([[0.0029, 0.3879, 0.0048, 0.5623, 0.6847],\n",
      "        [0.0301, 0.1212, 0.1161, 0.0053, 0.2187]])\n"
     ]
    }
   ],
   "source": [
    "first_matrix = torch.rand((2,5))\n",
    "second_matrix = torch.empty((2,5)).uniform_()\n",
    "\n",
    "result = first_matrix * second_matrix\n",
    "print(result)"
   ]
  },
  {
   "cell_type": "markdown",
   "metadata": {
    "id": "-zp_dWZZRtyE"
   },
   "source": [
    "### 12. (Matrix Exponentiation is not element-wise exponent) Apply matrix exponentiation on the first matrix using 2 methods, and compare the result with the element-wise matrix exponent."
   ]
  },
  {
   "cell_type": "code",
   "execution_count": 43,
   "metadata": {
    "colab": {
     "base_uri": "https://localhost:8080/"
    },
    "id": "jmOGNcBCRtyF",
    "outputId": "5bdaefdc-23e3-4b82-846c-d03210c5ae06"
   },
   "outputs": [
    {
     "name": "stdout",
     "output_type": "stream",
     "text": [
      "tensor([[ 0.3111, -0.0661, -0.5046],\n",
      "        [-0.4240, -0.0942,  0.0805],\n",
      "        [-2.1852, -0.0132,  1.7426]])\n",
      "tensor([[ 0.3111, -0.0661, -0.5046],\n",
      "        [-0.4240, -0.0942,  0.0805],\n",
      "        [-2.1852, -0.0132,  1.7426]])\n",
      "tensor([[-4.4944e-03, -5.9043e-04, -5.2254e-02],\n",
      "        [-1.0976e-01, -5.0221e-02,  1.2162e-06],\n",
      "        [-4.3043e+00, -1.2852e-04,  7.4751e-01]])\n",
      "tensor([[-4.4944e-03, -5.9043e-04, -5.2254e-02],\n",
      "        [-1.0976e-01, -5.0221e-02,  1.2162e-06],\n",
      "        [-4.3043e+00, -1.2852e-04,  7.4751e-01]])\n"
     ]
    }
   ],
   "source": [
    "matrix = torch.randn((3,3))\n",
    "\n",
    "result = matrix.matrix_power(3)\n",
    "print(result)\n",
    "\n",
    "result = torch.mm(torch.mm(matrix, matrix), matrix)\n",
    "print(result)\n",
    "\n",
    "result = torch.pow(matrix, 3)\n",
    "print(result)\n",
    "\n",
    "result = matrix ** 3\n",
    "print(result)"
   ]
  },
  {
   "cell_type": "markdown",
   "metadata": {
    "id": "S_wszeuURtyF"
   },
   "source": [
    "### 13. Apply the dot product on 2 vectors."
   ]
  },
  {
   "cell_type": "code",
   "execution_count": 44,
   "metadata": {
    "colab": {
     "base_uri": "https://localhost:8080/"
    },
    "id": "Obk9pw3tRtyF",
    "outputId": "edd7f472-9aed-41d2-eb45-2338173488f4"
   },
   "outputs": [
    {
     "name": "stdout",
     "output_type": "stream",
     "text": [
      "tensor(0.5508)\n"
     ]
    }
   ],
   "source": [
    "first_vector = torch.rand(5)\n",
    "second_vector = torch.randn(5)\n",
    "\n",
    "result = torch.dot(first_vector, second_vector)\n",
    "print(result)"
   ]
  },
  {
   "cell_type": "markdown",
   "metadata": {
    "id": "kUEoB4t3RtyF"
   },
   "source": [
    "### 14. (Batch Matrix Multiplication)\n",
    "    1. Initialize first tensor of size (batch, n, m)\n",
    "    2. Initialize second tensor of size (batch, m, p)\n",
    "    3. Apply Batch Matrix Multiplication (the result size is (batch, n, p))"
   ]
  },
  {
   "cell_type": "code",
   "execution_count": 45,
   "metadata": {
    "colab": {
     "base_uri": "https://localhost:8080/"
    },
    "id": "Q7kra-kgRtyF",
    "outputId": "b51af733-8e6b-4d0e-93cb-e465bdb0c53b"
   },
   "outputs": [
    {
     "name": "stdout",
     "output_type": "stream",
     "text": [
      "tensor([[[6.0393, 6.1747, 4.4017,  ..., 4.3173, 5.1638, 6.3142],\n",
      "         [5.5537, 5.3114, 5.6284,  ..., 3.7283, 5.1007, 4.5339],\n",
      "         [5.2713, 5.5891, 4.9159,  ..., 4.2176, 5.3852, 5.7832],\n",
      "         ...,\n",
      "         [4.9657, 4.4003, 4.4774,  ..., 3.2888, 4.8117, 4.2683],\n",
      "         [6.6085, 6.0306, 5.0172,  ..., 4.3873, 5.4924, 6.6792],\n",
      "         [6.1697, 5.9107, 5.6817,  ..., 3.6848, 5.5764, 6.3116]],\n",
      "\n",
      "        [[4.4364, 4.6060, 4.1285,  ..., 3.5674, 4.5713, 4.2894],\n",
      "         [4.0824, 4.9272, 4.2097,  ..., 3.7135, 4.0226, 4.8559],\n",
      "         [5.8922, 6.6212, 5.9120,  ..., 4.5240, 5.0612, 6.5160],\n",
      "         ...,\n",
      "         [5.1569, 5.1184, 5.1444,  ..., 3.8668, 4.1567, 4.7845],\n",
      "         [5.9981, 6.2390, 5.3153,  ..., 4.5803, 4.5659, 6.0041],\n",
      "         [4.6406, 5.0348, 4.1402,  ..., 3.3312, 3.7400, 4.4932]],\n",
      "\n",
      "        [[4.4244, 4.6908, 3.8469,  ..., 3.1338, 3.7348, 2.8723],\n",
      "         [3.5232, 4.1884, 3.9640,  ..., 3.8781, 3.6669, 3.4451],\n",
      "         [3.9584, 4.5768, 3.9833,  ..., 4.0239, 3.8080, 3.2050],\n",
      "         ...,\n",
      "         [4.8546, 5.5660, 4.5479,  ..., 4.9786, 4.5013, 4.4433],\n",
      "         [4.9789, 5.8102, 4.7903,  ..., 4.3747, 4.7118, 4.2197],\n",
      "         [5.0523, 3.9461, 4.8597,  ..., 4.9399, 4.2470, 4.5307]],\n",
      "\n",
      "        ...,\n",
      "\n",
      "        [[4.4164, 5.1638, 6.0456,  ..., 4.8113, 6.2439, 3.9009],\n",
      "         [4.3600, 3.9938, 5.0097,  ..., 4.6901, 4.7214, 3.5493],\n",
      "         [4.2722, 4.2893, 5.4398,  ..., 4.9371, 5.7157, 3.5090],\n",
      "         ...,\n",
      "         [4.9110, 4.6194, 5.5124,  ..., 5.2877, 5.3240, 3.9714],\n",
      "         [5.3480, 4.7036, 6.5708,  ..., 5.9353, 6.6223, 4.5677],\n",
      "         [4.6165, 3.9334, 5.7291,  ..., 4.7936, 5.7080, 4.5523]],\n",
      "\n",
      "        [[5.1224, 5.8873, 5.9778,  ..., 4.3415, 5.2476, 4.7593],\n",
      "         [4.3117, 5.0545, 4.4488,  ..., 4.5310, 4.7916, 4.0204],\n",
      "         [4.9460, 5.2823, 4.5866,  ..., 5.0182, 4.8350, 4.3466],\n",
      "         ...,\n",
      "         [5.2165, 5.4296, 5.0773,  ..., 4.7933, 5.3703, 4.6533],\n",
      "         [5.0163, 5.6817, 4.1975,  ..., 3.6786, 4.7071, 4.5350],\n",
      "         [3.6456, 3.9937, 4.6628,  ..., 3.1630, 3.0992, 4.0498]],\n",
      "\n",
      "        [[4.0782, 3.7188, 2.6709,  ..., 3.9845, 4.0595, 3.9243],\n",
      "         [5.9219, 5.1218, 4.0827,  ..., 5.1362, 6.2570, 6.1572],\n",
      "         [5.5482, 4.2881, 3.1860,  ..., 3.6137, 4.7493, 5.4359],\n",
      "         ...,\n",
      "         [6.2902, 6.0698, 4.5893,  ..., 5.5395, 6.7189, 6.4720],\n",
      "         [6.6408, 5.0889, 3.6550,  ..., 4.7215, 5.7125, 7.0275],\n",
      "         [6.1807, 4.3260, 4.3964,  ..., 5.3943, 5.2083, 5.6535]]])\n",
      "torch.Size([32, 10, 30])\n"
     ]
    }
   ],
   "source": [
    "batch = 32\n",
    "n = 10\n",
    "m = 20\n",
    "p = 30\n",
    "\n",
    "first_tensor = torch.rand((batch, n, m))\n",
    "second_tensor = torch.rand((batch, m, p))\n",
    "\n",
    "out_bmm = torch.bmm(first_tensor, second_tensor)\n",
    "\n",
    "print(out_bmm)\n",
    "print(out_bmm.shape)"
   ]
  },
  {
   "cell_type": "markdown",
   "metadata": {
    "id": "iLKchu-NRtyF"
   },
   "source": [
    "### 15. (Broadcasting) \n",
    "    1. Initialize 2 tensors of shape (5,5) and (1,5) respectively by uniform distribution.\n",
    "    2. Apply broadcasting subtraction and power."
   ]
  },
  {
   "cell_type": "code",
   "execution_count": 46,
   "metadata": {
    "colab": {
     "base_uri": "https://localhost:8080/"
    },
    "id": "NP09DE4mRtyF",
    "outputId": "63720d47-ec01-4838-fbd4-e0a3c1b8b4be"
   },
   "outputs": [
    {
     "name": "stdout",
     "output_type": "stream",
     "text": [
      "tensor([[-0.7334, -0.7776,  0.3197,  0.9081, -0.7416],\n",
      "        [ 0.0066, -0.8675,  0.2074,  0.3608, -0.0246],\n",
      "        [ 0.0975, -0.8847, -0.1082,  0.2064, -0.4302],\n",
      "        [-0.0257, -0.8198,  0.2292,  0.6637,  0.0470],\n",
      "        [-0.2379,  0.0267,  0.5678,  0.6572, -0.6372]])\n",
      "torch.Size([5, 5])\n",
      "tensor([[0.0190, 0.1528, 0.8758, 0.9985, 0.1352],\n",
      "        [0.8044, 0.0482, 0.8186, 0.9803, 0.8368],\n",
      "        [0.8759, 0.0261, 0.6106, 0.9698, 0.4683],\n",
      "        [0.7786, 0.1052, 0.8301, 0.9922, 0.8981],\n",
      "        [0.5997, 0.9357, 0.9851, 0.9920, 0.2563]])\n",
      "torch.Size([5, 5])\n"
     ]
    }
   ],
   "source": [
    "first_tensor = torch.rand((5,5))\n",
    "second_tensor = torch.empty((1,5)).uniform_()\n",
    "\n",
    "subtraction_result = first_tensor - second_tensor\n",
    "print(subtraction_result)\n",
    "print(subtraction_result.shape)\n",
    "\n",
    "power_result = first_tensor ** second_tensor\n",
    "print(power_result)\n",
    "print(power_result.shape)"
   ]
  },
  {
   "cell_type": "markdown",
   "metadata": {
    "id": "sDOnBlzM5pWU"
   },
   "source": [
    "## Some Useful Tensor Operations\n",
    "\n",
    "### 1. Apply a matrix summation on rows. "
   ]
  },
  {
   "cell_type": "code",
   "execution_count": 2,
   "metadata": {
    "colab": {
     "base_uri": "https://localhost:8080/"
    },
    "id": "5RKm7lIH5pWU",
    "outputId": "cc1c255e-e492-4ff4-c75b-80712e94af07"
   },
   "outputs": [
    {
     "name": "stdout",
     "output_type": "stream",
     "text": [
      "1.9.0+cu102\n",
      "tensor([[ 2.2884,  0.8904,  4.1746, -2.8339,  1.3797],\n",
      "        [ 2.1219, -1.9467, -3.8858,  3.1048,  0.4241],\n",
      "        [-0.9805,  0.3403,  2.1123, -1.5146, -4.0420],\n",
      "        [ 3.9690,  3.4765, -3.3431,  3.5805, -3.9511],\n",
      "        [ 2.1640, -2.6728,  1.8368,  0.1814,  1.8020]])\n",
      "torch.Size([1, 5])\n"
     ]
    }
   ],
   "source": [
    "import torch\n",
    "print(torch.__version__)\n",
    "\n",
    "matrix = torch.empty((5,5)).uniform_(-5,5)\n",
    "print(matrix)\n",
    "\n",
    "result = torch.sum(matrix, dim=0, keepdim=True)\n",
    "print(result.shape)"
   ]
  },
  {
   "cell_type": "markdown",
   "metadata": {
    "id": "v_r1n0HDUGnu"
   },
   "source": [
    "### 2. Apply a matrix summation on columns."
   ]
  },
  {
   "cell_type": "code",
   "execution_count": 48,
   "metadata": {
    "colab": {
     "base_uri": "https://localhost:8080/"
    },
    "id": "G7gVrKHfUqAs",
    "outputId": "a1a71a80-ed9f-4a50-8223-a5cd010c96f6"
   },
   "outputs": [
    {
     "name": "stdout",
     "output_type": "stream",
     "text": [
      "torch.Size([5, 1])\n"
     ]
    }
   ],
   "source": [
    "result = torch.sum(matrix, dim=1, keepdim=True)\n",
    "print(result.shape)"
   ]
  },
  {
   "cell_type": "markdown",
   "metadata": {
    "id": "LDXO6hDMUMb_"
   },
   "source": [
    "### 3. Get the maximum elements and their indices of a matrix (rank 2 tensor) for each column."
   ]
  },
  {
   "cell_type": "code",
   "execution_count": 49,
   "metadata": {
    "colab": {
     "base_uri": "https://localhost:8080/"
    },
    "id": "0NN2i9J7Uq8A",
    "outputId": "f6a57fb2-5f97-4f82-8784-f524163f5015"
   },
   "outputs": [
    {
     "name": "stdout",
     "output_type": "stream",
     "text": [
      "tensor([[4.5234, 4.7529, 3.0732, 4.3411, 2.5643]])\n",
      "tensor([[3, 4, 0, 0, 0]])\n"
     ]
    }
   ],
   "source": [
    "max_numbers, max_indices = torch.max(matrix, dim=0, keepdim=True)\n",
    "print(max_numbers)\n",
    "print(max_indices)"
   ]
  },
  {
   "cell_type": "markdown",
   "metadata": {
    "id": "ax6oZvM6UUqx"
   },
   "source": [
    "### 4. Get the minimum elements and their indices of a matrix (rank 2 tensor) for each row."
   ]
  },
  {
   "cell_type": "code",
   "execution_count": 50,
   "metadata": {
    "colab": {
     "base_uri": "https://localhost:8080/"
    },
    "id": "a7bte7VLUrge",
    "outputId": "cdcef9a7-83d6-4dae-98ca-1d31c8f46f98"
   },
   "outputs": [
    {
     "name": "stdout",
     "output_type": "stream",
     "text": [
      "tensor([[-0.7348],\n",
      "        [-3.4211],\n",
      "        [-2.1932],\n",
      "        [-4.3729],\n",
      "        [-4.3303]]) tensor([[0],\n",
      "        [4],\n",
      "        [4],\n",
      "        [1],\n",
      "        [2]])\n"
     ]
    }
   ],
   "source": [
    "min_numbers, min_indices = torch.min(matrix, dim=1, keepdim=True)\n",
    "print(min_numbers, min_indices)"
   ]
  },
  {
   "cell_type": "markdown",
   "metadata": {
    "id": "7xzlnVlTUXMl"
   },
   "source": [
    "### 5. Calculate the absolute values of a matrix (rank 2 tensor)."
   ]
  },
  {
   "cell_type": "code",
   "execution_count": 51,
   "metadata": {
    "colab": {
     "base_uri": "https://localhost:8080/"
    },
    "id": "6mPFiE02UsOu",
    "outputId": "6aa56a09-67ac-4e7e-a64a-2ae234905274"
   },
   "outputs": [
    {
     "name": "stdout",
     "output_type": "stream",
     "text": [
      "tensor([[0.7348, 3.3440, 3.0732, 4.3411, 2.5643],\n",
      "        [0.6961, 2.0588, 2.0040, 4.0956, 3.4211],\n",
      "        [3.9869, 4.6786, 0.5496, 2.3444, 2.1932],\n",
      "        [4.5234, 4.3729, 3.2564, 3.9333, 1.3123],\n",
      "        [0.9171, 4.7529, 4.3303, 3.7089, 3.3354]])\n"
     ]
    }
   ],
   "source": [
    "abs_values = torch.abs(matrix)\n",
    "print(abs_values)"
   ]
  },
  {
   "cell_type": "markdown",
   "metadata": {
    "id": "MhK7V5H1UZuQ"
   },
   "source": [
    "### 6. Get the indices of maximum elements only of a matrix (rank 2 tensor) for each column."
   ]
  },
  {
   "cell_type": "code",
   "execution_count": 52,
   "metadata": {
    "colab": {
     "base_uri": "https://localhost:8080/"
    },
    "id": "HfJ2-x7GUs4H",
    "outputId": "49b52398-0f0a-4a24-a799-64e043ad440c"
   },
   "outputs": [
    {
     "name": "stdout",
     "output_type": "stream",
     "text": [
      "tensor([[3, 4, 0, 0, 0]]) torch.Size([1, 5])\n",
      "tensor([[3, 4, 0, 0, 0]]) torch.Size([1, 5])\n"
     ]
    }
   ],
   "source": [
    "max_indices = torch.argmax(matrix, dim=0, keepdim=True)\n",
    "print(max_indices, max_indices.shape)\n",
    "\n",
    "max_values, max_indices = torch.max(matrix, dim=0, keepdim=True)\n",
    "print(max_indices, max_indices.shape) "
   ]
  },
  {
   "cell_type": "markdown",
   "metadata": {
    "id": "AxjWZxuRUcyO"
   },
   "source": [
    "### 7. Get the indices of minimum elements only of a matrix (rank 2 tensor) for each column."
   ]
  },
  {
   "cell_type": "code",
   "execution_count": 53,
   "metadata": {
    "colab": {
     "base_uri": "https://localhost:8080/"
    },
    "id": "gsTRKMDsUtkn",
    "outputId": "3aa829f6-77a5-4fb3-d191-196adc8098e3"
   },
   "outputs": [
    {
     "name": "stdout",
     "output_type": "stream",
     "text": [
      "tensor([[4, 3, 4, 3, 1]]) torch.Size([1, 5])\n",
      "tensor([[4, 3, 4, 3, 1]]) torch.Size([1, 5])\n"
     ]
    }
   ],
   "source": [
    "min_indices = torch.argmin(matrix, dim=0, keepdim=True)\n",
    "print(min_indices, min_indices.shape)\n",
    "\n",
    "min_values, min_indices = torch.min(matrix, dim=0, keepdim=True)\n",
    "print(min_indices, min_indices.shape)"
   ]
  },
  {
   "cell_type": "markdown",
   "metadata": {
    "id": "WACKl3mVUfU3"
   },
   "source": [
    "### 8. Get the mean elements of a matrix (rank 2 tensor) for each column.\n",
    "- The mean is calculated only for floating types."
   ]
  },
  {
   "cell_type": "code",
   "execution_count": 54,
   "metadata": {
    "colab": {
     "base_uri": "https://localhost:8080/"
    },
    "id": "Gd1_Tt_UUuTv",
    "outputId": "68da3781-cf38-4d81-cbd7-e2ca5f8f1059"
   },
   "outputs": [
    {
     "name": "stdout",
     "output_type": "stream",
     "text": [
      "tensor([[ 1.2325,  1.2688, -1.1936,  2.1113, -1.5396]]) torch.Size([1, 5])\n"
     ]
    }
   ],
   "source": [
    "mean_values = torch.mean(matrix, dim=0, keepdim=True)\n",
    "print(mean_values, mean_values.shape)"
   ]
  },
  {
   "cell_type": "markdown",
   "metadata": {
    "id": "RjYYEnYlUhjD"
   },
   "source": [
    "### 9. Apply an element-wise compare (check the equality) of 2 vectors."
   ]
  },
  {
   "cell_type": "code",
   "execution_count": 56,
   "metadata": {
    "colab": {
     "base_uri": "https://localhost:8080/"
    },
    "id": "T6HKeSFhUvSN",
    "outputId": "ec156496-f426-47df-e212-2031a6576bd5"
   },
   "outputs": [
    {
     "name": "stdout",
     "output_type": "stream",
     "text": [
      "tensor([False, False, False, False, False])\n",
      "tensor(False)\n",
      "Not Equal\n"
     ]
    }
   ],
   "source": [
    "first_vector = torch.rand(5)\n",
    "second_vector = torch.randn(5)\n",
    "\n",
    "compare_result = torch.eq(first_vector, second_vector)\n",
    "print(compare_result)\n",
    "\n",
    "compare_all_elements = torch.all(compare_result)\n",
    "print(compare_all_elements)\n",
    "\n",
    "message = 'Equal' if compare_all_elements == True else 'Not Equal'\n",
    "print(message)"
   ]
  },
  {
   "cell_type": "markdown",
   "metadata": {
    "id": "D3-zYL2uUkIa"
   },
   "source": [
    "### 10. Apply an element-wise compare (check the equality) of 2 matrices."
   ]
  },
  {
   "cell_type": "code",
   "execution_count": 4,
   "metadata": {
    "colab": {
     "base_uri": "https://localhost:8080/"
    },
    "id": "bToSWrbOUv-7",
    "outputId": "b603cbe0-0859-4bab-99cb-2db4dccfdb7f"
   },
   "outputs": [
    {
     "name": "stdout",
     "output_type": "stream",
     "text": [
      "tensor([[False, False],\n",
      "        [False, False],\n",
      "        [False, False],\n",
      "        [False, False],\n",
      "        [False, False]]) torch.Size([5, 2])\n",
      "tensor(False)\n",
      "Not Equal\n"
     ]
    }
   ],
   "source": [
    "first_matrix = torch.rand((5,2))\n",
    "second_matrix = torch.randn((5,2))\n",
    "\n",
    "compare_result = torch.eq(first_matrix, second_matrix)\n",
    "print(compare_result, compare_result.shape)\n",
    "\n",
    "compare_all_elements = torch.all(compare_result)\n",
    "print(compare_all_elements)\n",
    "\n",
    "message = 'Equal' if compare_all_elements == True else 'Not Equal'\n",
    "print(message)"
   ]
  },
  {
   "cell_type": "markdown",
   "metadata": {
    "id": "p9VRm91fUmT-"
   },
   "source": [
    "### 11. Sort each column in a matrix ascendingly. Then, print the sorted matrix and the indices."
   ]
  },
  {
   "cell_type": "code",
   "execution_count": 5,
   "metadata": {
    "colab": {
     "base_uri": "https://localhost:8080/"
    },
    "id": "XjKsAK-AUwxo",
    "outputId": "44763a70-f39b-4092-c1e7-66f3e2b0731c"
   },
   "outputs": [
    {
     "name": "stdout",
     "output_type": "stream",
     "text": [
      "tensor([[0.0689, 0.0658],\n",
      "        [0.2408, 0.0794],\n",
      "        [0.4543, 0.2062],\n",
      "        [0.5591, 0.5915],\n",
      "        [0.8859, 0.7165]])\n",
      "torch.Size([5, 2])\n",
      "tensor([[3, 4],\n",
      "        [4, 1],\n",
      "        [0, 3],\n",
      "        [2, 2],\n",
      "        [1, 0]])\n",
      "torch.Size([5, 2])\n"
     ]
    }
   ],
   "source": [
    "sorted_matrix_values, sorted_matrix_indices = torch.sort(first_matrix, dim=0, descending=False)\n",
    "\n",
    "print(sorted_matrix_values)\n",
    "print(sorted_matrix_values.shape)\n",
    "\n",
    "print(sorted_matrix_indices)\n",
    "print(sorted_matrix_indices.shape)"
   ]
  },
  {
   "cell_type": "markdown",
   "metadata": {},
   "source": [
    "### 12. Clamp all negative values of a matrix to be zero and all values greater than 10 will be 10."
   ]
  },
  {
   "cell_type": "code",
   "execution_count": 13,
   "metadata": {},
   "outputs": [
    {
     "name": "stdout",
     "output_type": "stream",
     "text": [
      "tensor([[  6.6880,  -0.7806,  -3.6483],\n",
      "        [ -3.8671,  -3.5930, -16.9277],\n",
      "        [  5.9661,  -1.4540,  -6.7087],\n",
      "        [ -0.1445,  16.2445, -20.9530],\n",
      "        [ 15.3148,  -6.0732,  17.8940]])\n",
      "tensor([[ 6.6880,  0.0000,  0.0000],\n",
      "        [ 0.0000,  0.0000,  0.0000],\n",
      "        [ 5.9661,  0.0000,  0.0000],\n",
      "        [ 0.0000, 10.0000,  0.0000],\n",
      "        [10.0000,  0.0000, 10.0000]])\n",
      "tensor([[ 6.6880,  0.0000,  0.0000],\n",
      "        [ 0.0000,  0.0000,  0.0000],\n",
      "        [ 5.9661,  0.0000,  0.0000],\n",
      "        [ 0.0000, 10.0000,  0.0000],\n",
      "        [10.0000,  0.0000, 10.0000]])\n"
     ]
    }
   ],
   "source": [
    "matrix = torch.empty((5,3)).normal_(0,15)\n",
    "print(matrix)\n",
    "\n",
    "clampped_matrix = torch.clamp(matrix, min=0, max=10)\n",
    "print(clampped_matrix)\n",
    "\n",
    "matrix[matrix < 0.0] = 0.0\n",
    "matrix[matrix > 10.0] = 10.0\n",
    "print(matrix)"
   ]
  },
  {
   "cell_type": "markdown",
   "metadata": {},
   "source": [
    "### 13. Check any of the tensor values are True.\n",
    "### 14. Check all tensor values are True."
   ]
  },
  {
   "cell_type": "code",
   "execution_count": 14,
   "metadata": {},
   "outputs": [
    {
     "name": "stdout",
     "output_type": "stream",
     "text": [
      "tensor([ True, False,  True,  True])\n",
      "tensor(True)\n",
      "tensor(False)\n"
     ]
    }
   ],
   "source": [
    "bool_tensor = torch.tensor([-1, 0, 1, 90], dtype=bool)\n",
    "print(bool_tensor)\n",
    "\n",
    "any_true = torch.any(bool_tensor)\n",
    "print(any_true)\n",
    "\n",
    "all_true = torch.all(bool_tensor)\n",
    "print(all_true)"
   ]
  },
  {
   "cell_type": "markdown",
   "metadata": {},
   "source": [
    "## C. Tensor Indexing\n",
    "### 1. Initialize a rank-2 tensor with 10 examples and 25 features using a uniform distribution.\n",
    "### 2. Get all features of the 1st example.\n",
    "### 3. Get the 5th features of all examples."
   ]
  },
  {
   "cell_type": "code",
   "execution_count": 19,
   "metadata": {},
   "outputs": [
    {
     "name": "stdout",
     "output_type": "stream",
     "text": [
      "tensor([0.5110, 0.9286, 0.0184, 0.8330, 0.3077, 0.8575, 0.5121, 0.7162, 0.8949,\n",
      "        0.4770, 0.7837, 0.4637, 0.4515, 0.6384, 0.9991, 0.1430, 0.3783, 0.9130,\n",
      "        0.6653, 0.2400, 0.8435, 0.5740, 0.4346, 0.4226, 0.0400])\n",
      "torch.Size([25])\n",
      "tensor([[0.5110, 0.9286, 0.0184, 0.8330, 0.3077, 0.8575, 0.5121, 0.7162, 0.8949,\n",
      "         0.4770, 0.7837, 0.4637, 0.4515, 0.6384, 0.9991, 0.1430, 0.3783, 0.9130,\n",
      "         0.6653, 0.2400, 0.8435, 0.5740, 0.4346, 0.4226, 0.0400]])\n",
      "torch.Size([1, 25])\n",
      "tensor([0.5110, 0.9286, 0.0184, 0.8330, 0.3077, 0.8575, 0.5121, 0.7162, 0.8949,\n",
      "        0.4770, 0.7837, 0.4637, 0.4515, 0.6384, 0.9991, 0.1430, 0.3783, 0.9130,\n",
      "        0.6653, 0.2400, 0.8435, 0.5740, 0.4346, 0.4226, 0.0400])\n",
      "torch.Size([25])\n",
      "tensor([[0.5110, 0.9286, 0.0184, 0.8330, 0.3077, 0.8575, 0.5121, 0.7162, 0.8949,\n",
      "         0.4770, 0.7837, 0.4637, 0.4515, 0.6384, 0.9991, 0.1430, 0.3783, 0.9130,\n",
      "         0.6653, 0.2400, 0.8435, 0.5740, 0.4346, 0.4226, 0.0400]])\n",
      "torch.Size([1, 25])\n",
      "tensor([0.3077, 0.5443, 0.9612, 0.7300, 0.7518, 0.5104, 0.5464, 0.4408, 0.2454,\n",
      "        0.6329])\n",
      "torch.Size([10])\n"
     ]
    }
   ],
   "source": [
    "batch = torch.empty((10, 25)).uniform_()\n",
    "\n",
    "first_example = batch[0,:]\n",
    "print(first_example)\n",
    "print(first_example.shape)\n",
    "\n",
    "first_example = batch[0,:].reshape(1, -1)\n",
    "print(first_example)\n",
    "print(first_example.shape)\n",
    "\n",
    "first_example = batch[0]\n",
    "print(first_example)\n",
    "print(first_example.shape)\n",
    "\n",
    "first_example = batch[0].reshape(1, -1)\n",
    "print(first_example)\n",
    "print(first_example.shape)\n",
    "\n",
    "fifth_feature = batch[:, 4]\n",
    "print(fifth_feature)\n",
    "print(fifth_feature.shape)"
   ]
  },
  {
   "cell_type": "markdown",
   "metadata": {},
   "source": [
    "### 4. Get the first 10 features of the 3rd example. "
   ]
  },
  {
   "cell_type": "code",
   "execution_count": 20,
   "metadata": {},
   "outputs": [
    {
     "name": "stdout",
     "output_type": "stream",
     "text": [
      "tensor([0.4754, 0.7265, 0.6043, 0.6524, 0.9612, 0.6160, 0.3907, 0.8526, 0.8630,\n",
      "        0.0070])\n",
      "torch.Size([10])\n"
     ]
    }
   ],
   "source": [
    "third_example_10_features = batch[2,:10]\n",
    "print(third_example_10_features)\n",
    "print(third_example_10_features.shape)"
   ]
  },
  {
   "cell_type": "markdown",
   "metadata": {},
   "source": [
    "### 5. Change the value of the first feature of the first example to 100. "
   ]
  },
  {
   "cell_type": "code",
   "execution_count": 21,
   "metadata": {},
   "outputs": [],
   "source": [
    "batch[0, 0] = 100"
   ]
  },
  {
   "cell_type": "markdown",
   "metadata": {},
   "source": [
    "### 6. Initialize a tensor that has values from 0 to 9.\n",
    "### 7. Using one statement, pick 3 values from it (3rd, 6th, 9th). "
   ]
  },
  {
   "cell_type": "code",
   "execution_count": 22,
   "metadata": {},
   "outputs": [
    {
     "name": "stdout",
     "output_type": "stream",
     "text": [
      "tensor([2, 5, 8])\n",
      "torch.Size([3])\n"
     ]
    }
   ],
   "source": [
    "tensor = torch.arange(10)\n",
    "indices_list = [2, 5, 8]\n",
    "selected_values = tensor[indices_list]\n",
    "print(selected_values)\n",
    "print(selected_values.shape)"
   ]
  },
  {
   "cell_type": "markdown",
   "metadata": {},
   "source": [
    "### 8. Pick 2 values from a matrix using 2 tensor of indices"
   ]
  },
  {
   "cell_type": "code",
   "execution_count": 25,
   "metadata": {},
   "outputs": [
    {
     "name": "stdout",
     "output_type": "stream",
     "text": [
      "tensor([[0.0962, 0.4596, 0.5590],\n",
      "        [0.7160, 0.4338, 0.1199],\n",
      "        [0.0679, 0.8133, 0.1035],\n",
      "        [0.0065, 0.9988, 0.0893],\n",
      "        [0.4538, 0.9602, 0.4458]])\n",
      "tensor([0.7160, 0.5590])\n",
      "torch.Size([2])\n"
     ]
    }
   ],
   "source": [
    "matrix = torch.rand((5,3))\n",
    "\n",
    "rows = torch.tensor([1, 0])\n",
    "columns = torch.tensor([0, 2])\n",
    "\n",
    "result = matrix[rows, columns]\n",
    "\n",
    "print(matrix)\n",
    "print(result)\n",
    "print(result.shape)"
   ]
  },
  {
   "cell_type": "markdown",
   "metadata": {},
   "source": [
    "### 9. Initialize a tensor that has values from 0 to 9.\n",
    "### 10. Pick elements that are greater than 2 and less than 8.\n",
    "### 11. Pick elements that are less that 2 or greater than 8.\n",
    "### 12. Pick elements that are less that 2 and greater than 8.\n",
    "### 13. Pick elements that are even."
   ]
  },
  {
   "cell_type": "code",
   "execution_count": 39,
   "metadata": {},
   "outputs": [
    {
     "name": "stdout",
     "output_type": "stream",
     "text": [
      "tensor([3, 4, 5, 6, 7])\n",
      "tensor([0, 1, 9])\n",
      "tensor([], dtype=torch.int64)\n",
      "tensor([0, 2, 4, 6, 8])\n",
      "tensor([0, 2, 4, 6, 8])\n"
     ]
    }
   ],
   "source": [
    "tensor = torch.arange(10)\n",
    "\n",
    "result = tensor[(tensor>2) & (tensor<8)]\n",
    "print(result)\n",
    "\n",
    "result = tensor[(tensor<2) | (tensor>8)]\n",
    "print(result)\n",
    "\n",
    "result = tensor[(tensor<2) & (tensor>8)]\n",
    "print(result)\n",
    "\n",
    "result = tensor[tensor%2 == 0]\n",
    "print(result)\n",
    "\n",
    "result = tensor[torch.remainder(tensor,2) == 0]\n",
    "print(result)"
   ]
  },
  {
   "cell_type": "markdown",
   "metadata": {},
   "source": [
    "### 14. Double the values of a tensor if they are not greater than 5."
   ]
  },
  {
   "cell_type": "code",
   "execution_count": 44,
   "metadata": {},
   "outputs": [
    {
     "name": "stdout",
     "output_type": "stream",
     "text": [
      "tensor([0, 1, 2, 3, 4, 5, 6, 7, 8, 9])\n",
      "tensor([ 0,  2,  4,  6,  8, 10,  6,  7,  8,  9])\n"
     ]
    }
   ],
   "source": [
    "tensor = torch.arange(10)\n",
    "print(tensor)\n",
    "\n",
    "result = torch.where(tensor > 5, tensor, tensor*2)\n",
    "print(result)"
   ]
  },
  {
   "cell_type": "markdown",
   "metadata": {},
   "source": [
    "### 15. Initailze a tensor with the following values [1, 0, 0, 12, 12, 1, -1, 7, -1], and print the unique values of it."
   ]
  },
  {
   "cell_type": "code",
   "execution_count": 45,
   "metadata": {},
   "outputs": [
    {
     "name": "stdout",
     "output_type": "stream",
     "text": [
      "tensor([-1,  0,  1,  7, 12])\n"
     ]
    }
   ],
   "source": [
    "tensor = torch.tensor([1,0,0,12,12,1,-1,7,-1])\n",
    "unique_values = tensor.unique()\n",
    "print(unique_values)"
   ]
  },
  {
   "cell_type": "markdown",
   "metadata": {},
   "source": [
    "### 16. Print the rank (number of dimensions) of a certain tensor."
   ]
  },
  {
   "cell_type": "code",
   "execution_count": 48,
   "metadata": {},
   "outputs": [
    {
     "name": "stdout",
     "output_type": "stream",
     "text": [
      "1\n",
      "2\n"
     ]
    }
   ],
   "source": [
    "tensor = torch.tensor([1,2,3])\n",
    "print(tensor.ndimension())\n",
    "\n",
    "tensor = torch.tensor([[1,2,3], [4,5,6]])\n",
    "print(tensor.ndimension())"
   ]
  },
  {
   "cell_type": "markdown",
   "metadata": {},
   "source": [
    "### 17. Print the number of elements (items) in a ceratin tensor "
   ]
  },
  {
   "cell_type": "code",
   "execution_count": 50,
   "metadata": {},
   "outputs": [
    {
     "name": "stdout",
     "output_type": "stream",
     "text": [
      "3\n",
      "6\n"
     ]
    }
   ],
   "source": [
    "tensor = torch.tensor([1,2,3])\n",
    "print(tensor.numel())\n",
    "\n",
    "tensor = torch.tensor([[1,2,3], [4,5,6]])\n",
    "print(tensor.numel())"
   ]
  },
  {
   "cell_type": "markdown",
   "metadata": {},
   "source": [
    "### 18.  Initailize a tensor of size (5,4,3,2) with values randomly selected from the normal distribution (mean=-2, std=3), then print its shape, rank, and number of elements. "
   ]
  },
  {
   "cell_type": "code",
   "execution_count": 51,
   "metadata": {},
   "outputs": [
    {
     "name": "stdout",
     "output_type": "stream",
     "text": [
      "torch.Size([5, 4, 3, 2])\n",
      "4\n",
      "120\n"
     ]
    }
   ],
   "source": [
    "tensor = torch.empty((5,4,3,2)).normal_(-2, 3)\n",
    "print(tensor.shape)\n",
    "print(tensor.ndimension())\n",
    "print(tensor.numel())"
   ]
  },
  {
   "cell_type": "markdown",
   "metadata": {},
   "source": [
    "## D. Tensor Reshaping\n",
    "### 1. Initialize a tensor with a range of values from 0 to 8, and reshape it to 3x3 matrix using 2 methods. \n",
    "\n",
    "#### view()\n",
    "1. It returns a tensor with the new shape that will share the underlying data with the original tensor.\n",
    "1. It can only operate on contiguous tensors. \n",
    "1. It is less flexible but it has a good performance\n",
    "\n",
    "#### reshape()\n",
    "1. It returns a copy of the original tensor. \n",
    "1. It can operate on both contiguous and non-contiguous tensors. \n",
    "1. It is more flexible but it has a performance loss."
   ]
  },
  {
   "cell_type": "code",
   "execution_count": 1,
   "metadata": {},
   "outputs": [
    {
     "name": "stdout",
     "output_type": "stream",
     "text": [
      "1.9.0+cu102\n"
     ]
    }
   ],
   "source": [
    "import torch\n",
    "print(torch.__version__)"
   ]
  },
  {
   "cell_type": "code",
   "execution_count": 2,
   "metadata": {},
   "outputs": [
    {
     "name": "stdout",
     "output_type": "stream",
     "text": [
      "tensor([0, 1, 2, 3, 4, 5, 6, 7, 8])\n",
      "tensor([[0, 1, 2],\n",
      "        [3, 4, 5],\n",
      "        [6, 7, 8]])\n",
      "tensor([[0, 1, 2],\n",
      "        [3, 4, 5],\n",
      "        [6, 7, 8]])\n"
     ]
    }
   ],
   "source": [
    "tensor = torch.arange(9)\n",
    "print(tensor)\n",
    "\n",
    "reshaped_tensor = tensor.view(3,3)\n",
    "print(reshaped_tensor)\n",
    "\n",
    "reshaped_tensor = tensor.reshape(3,3)\n",
    "print(reshaped_tensor)"
   ]
  },
  {
   "cell_type": "markdown",
   "metadata": {},
   "source": [
    "### 2. Transpose a matrix."
   ]
  },
  {
   "cell_type": "code",
   "execution_count": 3,
   "metadata": {},
   "outputs": [
    {
     "name": "stdout",
     "output_type": "stream",
     "text": [
      "tensor([[0.2592, 0.5358, 0.0560, 0.1593, 0.1549],\n",
      "        [0.1719, 0.4957, 0.6905, 0.3803, 0.7402]])\n",
      "torch.Size([2, 5])\n"
     ]
    }
   ],
   "source": [
    "matrix = torch.rand((5,2))\n",
    "transposed_tensor = matrix.t()\n",
    "print(transposed_tensor)\n",
    "print(transposed_tensor.shape)"
   ]
  },
  {
   "cell_type": "markdown",
   "metadata": {},
   "source": [
    "### 3. Return the transposed tensor back to its shape using view()\n",
    "1. The transposed tensor is not a continguous block of memory."
   ]
  },
  {
   "cell_type": "code",
   "execution_count": 6,
   "metadata": {},
   "outputs": [
    {
     "name": "stdout",
     "output_type": "stream",
     "text": [
      "tensor([0.2592, 0.5358, 0.0560, 0.1593, 0.1549, 0.1719, 0.4957, 0.6905, 0.3803,\n",
      "        0.7402])\n",
      "torch.Size([10])\n"
     ]
    }
   ],
   "source": [
    "reshaped_matrix = transposed_tensor.contiguous().view(10)\n",
    "print(reshaped_matrix)\n",
    "print(reshaped_matrix.shape)"
   ]
  },
  {
   "cell_type": "markdown",
   "metadata": {},
   "source": [
    "### 4. Initialize 2 tensors and concatenate them on vertically and horizontally respectively. "
   ]
  },
  {
   "cell_type": "code",
   "execution_count": 9,
   "metadata": {},
   "outputs": [
    {
     "name": "stdout",
     "output_type": "stream",
     "text": [
      "tensor([[ 0.7915,  0.9412],\n",
      "        [ 0.9990,  0.6816],\n",
      "        [ 0.0057,  0.4306],\n",
      "        [ 0.5360,  0.4128],\n",
      "        [ 0.8139,  0.1409],\n",
      "        [ 1.8064, -0.0838],\n",
      "        [ 0.8016, -2.6884],\n",
      "        [-0.3070, -0.4440],\n",
      "        [ 0.2758,  1.6708],\n",
      "        [-0.2237, -1.2162]])\n",
      "torch.Size([10, 2])\n",
      "tensor([[ 0.7915,  0.9412,  1.8064, -0.0838],\n",
      "        [ 0.9990,  0.6816,  0.8016, -2.6884],\n",
      "        [ 0.0057,  0.4306, -0.3070, -0.4440],\n",
      "        [ 0.5360,  0.4128,  0.2758,  1.6708],\n",
      "        [ 0.8139,  0.1409, -0.2237, -1.2162]])\n",
      "torch.Size([5, 4])\n"
     ]
    }
   ],
   "source": [
    "first_tensor = torch.rand((5,2))\n",
    "second_tensor = torch.randn((5,2))\n",
    "\n",
    "vertical_concatenation = torch.cat((first_tensor, second_tensor), dim=0)\n",
    "print(vertical_concatenation)\n",
    "print(vertical_concatenation.shape)\n",
    "\n",
    "horizontal_concatenation = torch.cat((first_tensor, second_tensor), dim=1)\n",
    "print(horizontal_concatenation)\n",
    "print(horizontal_concatenation.shape)"
   ]
  },
  {
   "cell_type": "markdown",
   "metadata": {},
   "source": [
    "### 5. Unroll a tensor using 2 methods"
   ]
  },
  {
   "cell_type": "code",
   "execution_count": 15,
   "metadata": {},
   "outputs": [
    {
     "name": "stdout",
     "output_type": "stream",
     "text": [
      "tensor([0.4417, 0.0862, 0.9252, 0.9104, 0.1938, 0.6863, 0.9178, 0.7788, 0.6879,\n",
      "        0.3095])\n",
      "torch.Size([10])\n",
      "tensor([0.4417, 0.0862, 0.9252, 0.9104, 0.1938, 0.6863, 0.9178, 0.7788, 0.6879,\n",
      "        0.3095])\n",
      "torch.Size([10])\n"
     ]
    }
   ],
   "source": [
    "tensor = torch.rand((5,2))\n",
    "\n",
    "unrolled_tensor = tensor.view(-1)\n",
    "print(unrolled_tensor)\n",
    "print(unrolled_tensor.shape)\n",
    "\n",
    "unrolled_tensor = tensor.reshape(-1)\n",
    "print(unrolled_tensor)\n",
    "print(unrolled_tensor.shape)"
   ]
  },
  {
   "cell_type": "markdown",
   "metadata": {},
   "source": [
    "### 6. Unroll a batch using 2 methods "
   ]
  },
  {
   "cell_type": "code",
   "execution_count": 16,
   "metadata": {},
   "outputs": [
    {
     "name": "stdout",
     "output_type": "stream",
     "text": [
      "torch.Size([64, 10])\n",
      "torch.Size([64, 10])\n"
     ]
    }
   ],
   "source": [
    "batch_size = 64\n",
    "batch = torch.rand((batch_size, 2, 5))\n",
    "\n",
    "unrolled_batch = batch.view(batch_size, -1)\n",
    "print(unrolled_batch.shape)\n",
    "\n",
    "unrolled_batch = batch.reshape(batch_size, -1)\n",
    "print(unrolled_batch.shape)"
   ]
  },
  {
   "cell_type": "markdown",
   "metadata": {},
   "source": [
    "### 7. Swap the axes of a batch using 3 methods\n",
    "1. transpose t() is a special case of permute()"
   ]
  },
  {
   "cell_type": "code",
   "execution_count": 21,
   "metadata": {},
   "outputs": [
    {
     "name": "stdout",
     "output_type": "stream",
     "text": [
      "torch.Size([64, 2, 5])\n",
      "torch.Size([64, 2, 5])\n",
      "torch.Size([64, 2, 5])\n"
     ]
    }
   ],
   "source": [
    "batch_size = 64\n",
    "batch = torch.rand((batch_size, 5, 2))\n",
    "\n",
    "swapped_batch = batch.view(batch_size, 2, 5)\n",
    "print(swapped_batch.shape)\n",
    "\n",
    "swapped_batch = batch.reshape(batch_size, 2, 5)\n",
    "print(swapped_batch.shape)\n",
    "\n",
    "swapped_batch = batch.permute(0, 2, 1)\n",
    "print(swapped_batch.shape)"
   ]
  },
  {
   "cell_type": "markdown",
   "metadata": {},
   "source": [
    "### 8. For a vector (rank-1 tensor), change it to rank-2 tensor using 2 methods.\n",
    "1. [10] -> [1, 10]\n",
    "1. [10] -> [10, 1]"
   ]
  },
  {
   "cell_type": "code",
   "execution_count": 23,
   "metadata": {},
   "outputs": [
    {
     "name": "stdout",
     "output_type": "stream",
     "text": [
      "torch.Size([1, 10])\n",
      "torch.Size([1, 10])\n"
     ]
    }
   ],
   "source": [
    "rank_1_tensor = torch.rand(10)\n",
    "\n",
    "rank_2_tensor = rank_1_tensor.reshape(1, -1)\n",
    "print(rank_2_tensor.shape)\n",
    "\n",
    "rank_2_tensor = rank_1_tensor.unsqueeze(0)\n",
    "print(rank_2_tensor.shape)"
   ]
  },
  {
   "cell_type": "code",
   "execution_count": 24,
   "metadata": {},
   "outputs": [
    {
     "name": "stdout",
     "output_type": "stream",
     "text": [
      "torch.Size([10, 1])\n",
      "torch.Size([10, 1])\n"
     ]
    }
   ],
   "source": [
    "rank_1_tensor = torch.rand(10)\n",
    "\n",
    "rank_2_tensor = rank_1_tensor.reshape(-1, 1)\n",
    "print(rank_2_tensor.shape)\n",
    "\n",
    "rank_2_tensor = rank_1_tensor.unsqueeze(1)\n",
    "print(rank_2_tensor.shape)"
   ]
  },
  {
   "cell_type": "markdown",
   "metadata": {},
   "source": [
    "### 9. Change rank-1 tensor to rank-3, then change it to rank-2.\n",
    "1. [10] -> [1, 1, 10] -> [1, 10]"
   ]
  },
  {
   "cell_type": "code",
   "execution_count": 28,
   "metadata": {},
   "outputs": [
    {
     "name": "stdout",
     "output_type": "stream",
     "text": [
      "torch.Size([1, 1, 10])\n",
      "torch.Size([1, 10])\n"
     ]
    }
   ],
   "source": [
    "rank_1_tensor = torch.arange(10)\n",
    "\n",
    "rank_3_tensor = rank_1_tensor.unsqueeze(0).unsqueeze(1)\n",
    "print(rank_3_tensor.shape)\n",
    "\n",
    "rank_2_tensor = rank_3_tensor.squeeze(0)\n",
    "print(rank_2_tensor.shape)"
   ]
  }
 ],
 "metadata": {
  "colab": {
   "collapsed_sections": [
    "nK6PkP37buMr",
    "jmQi6J2QRN0A",
    "Bk7cmR0uROZr",
    "RJvlL24ERO-g",
    "ipEE-m0VRPQ_",
    "hy6XFHRoR3di",
    "EAe7_nmoR6ER",
    "F--QfK28R8qU",
    "a03ORPVxR-zk",
    "UhllffP6SBZa",
    "iitet0JQjrin",
    "1lvMB5u0nRbC",
    "2ikP0FAy5pWS",
    "u6-vYOQVZVQN",
    "sAblW8qsRtyD",
    "2oGIDGhyRtyD",
    "Qs7CkoZ4RtyD",
    "t5aQ44OKRtyE",
    "Gu7grJ_sRtyE",
    "PikjPR1gRtyE",
    "-zp_dWZZRtyE",
    "S_wszeuURtyF",
    "kUEoB4t3RtyF",
    "iLKchu-NRtyF",
    "7xzlnVlTUXMl",
    "MhK7V5H1UZuQ",
    "AxjWZxuRUcyO",
    "WACKl3mVUfU3"
   ],
   "name": "Complete_PyTorch_Tensor_Tutorial_(Initializing_Tensors,_Math,_Indexing,_Reshaping) (1).ipynb",
   "provenance": []
  },
  "kernelspec": {
   "display_name": "Python 3",
   "language": "python",
   "name": "python3"
  },
  "language_info": {
   "codemirror_mode": {
    "name": "ipython",
    "version": 3
   },
   "file_extension": ".py",
   "mimetype": "text/x-python",
   "name": "python",
   "nbconvert_exporter": "python",
   "pygments_lexer": "ipython3",
   "version": "3.7.7"
  }
 },
 "nbformat": 4,
 "nbformat_minor": 1
}
